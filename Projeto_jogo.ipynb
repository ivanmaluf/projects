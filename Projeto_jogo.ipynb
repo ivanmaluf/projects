{
 "cells": [
  {
   "cell_type": "markdown",
   "metadata": {},
   "source": [
    "#Jogo da forca:\n",
    "Etapas\n",
    "1- lista com palavras ( no inicio uma palavra, posteriormente pode ser um dicionario, onde chaves são categorias, e valores são as palavras)\n",
    "2 - buscar uma palavra aleatória dentro da lista\n",
    "3 - mostrar quantas letras tem a palavra ( visualmente, com as letras e os espaços ou traços)\n",
    "4 - input para usuario colocar a letra ( tratamento para garantir que seja uma letra, e não pode repetir a letra)\n",
    "5 - verificar se o input está dentro da palavra \n",
    "6 - se sim, mostrar a palavra visualmente\n",
    "7 - se não, mostrar quantas chances ele ainda tem ( no futuro mostrar o bonequinho)\n",
    "8 - verificar se a chance chegou no zero: game over!\n",
    "9 - se lista do usuario = palavra, ele escapou da forca, e venceu.\n",
    "No futuro: usuario adivinhar a palvra toda de uma vez; usuario jogar varias rodas seguidas, e pontuar contra o computador; vários usuários jogando a mesma palavra; "
   ]
  },
  {
   "cell_type": "code",
   "execution_count": 1,
   "metadata": {},
   "outputs": [],
   "source": [
    "import re"
   ]
  },
  {
   "cell_type": "code",
   "execution_count": 2,
   "metadata": {},
   "outputs": [],
   "source": [
    "import random"
   ]
  },
  {
   "cell_type": "code",
   "execution_count": 4,
   "metadata": {},
   "outputs": [],
   "source": [
    "lista_de_palavras = ['extraordinariamente','incondicionalmente', 'software', 'hardware', 'computador', 'funcao', 'abajour', 'responsabilidade', 'atratividade', 'numerador', 'denominador', 'entretenimento', 'oportunidade', 'casamento', 'namorada', 'impulsionar', 'arquitetura', 'cultivar', 'agricultura', 'inseticida', 'aspartame', 'espetacular', 'tecnologia', 'desenvolvedor', 'aplicativo', 'codigo'] "
   ]
  },
  {
   "cell_type": "code",
   "execution_count": null,
   "metadata": {},
   "outputs": [
    {
     "name": "stdout",
     "output_type": "stream",
     "text": [
      "Ben-Vindo ao Jogo da Forca!\n",
      "\n",
      "\n",
      "Voce tem 7 chances para sugerir letras e adivinhar a palavra secreta. Boa sorte!\n",
      "Por favor, ignore acentos e cedilha\n",
      "\n",
      "\n",
      "Palavra:    _ _ _ _ _ _\n",
      "\n",
      "\n",
      "Letras já ditas:   []\n",
      "\n",
      "\n"
     ]
    }
   ],
   "source": [
    "palavra = random.choice(lista_de_palavras)\n",
    "\n",
    "x = len(palavra)\n",
    "\n",
    "def inserir_linha():\n",
    "    print('\\n')\n",
    "\n",
    "print(\"Ben-Vindo ao Jogo da Forca!\"\"\")\n",
    "inserir_linha()\n",
    "\n",
    "print(\"Voce tem 7 chances para sugerir letras e adivinhar a palavra secreta. Boa sorte!\")\n",
    "print(\"Por favor, ignore acentos e cedilha\")\n",
    "inserir_linha()\n",
    "\n",
    "print(\"Palavra:   \",\" \".join(list(re.sub('\\w','_',palavra))) )\n",
    "inserir_linha()\n",
    "\n",
    "nova_palavra = [\"_\"]*len(palavra)\n",
    "lista_de_letras =[]\n",
    "numero_chances = 7\n",
    "while (numero_chances > 0) & (\"\".join(nova_palavra)!=palavra):\n",
    "    \n",
    "    print('Letras já ditas:  ',lista_de_letras)\n",
    "    inserir_linha()\n",
    "    letra = (input(\"Digite uma letra:  \")).lower()\n",
    "    \n",
    "    while (len(letra)>1)|(letra in lista_de_letras)|(len(re.findall('[^a-z]', letra))>0):\n",
    "        print(\"Entrada inválida\")\n",
    "        letra = (input(\"Digite uma letra:  \")).lower()\n",
    "    \n",
    "    lista_de_letras.append(letra)\n",
    "    inserir_linha()\n",
    "    \n",
    "    if letra not in palavra:\n",
    "        print('Lamento, essa letra não faz parte da palavra.')\n",
    "        inserir_linha()\n",
    "        numero_chances = numero_chances - 1\n",
    "        print(f'Voce tem {numero_chances} chances')\n",
    "        inserir_linha()\n",
    "        print(\"Palavra:  \",\" \".join(nova_palavra))\n",
    "        inserir_linha()\n",
    "        \n",
    "    \n",
    "    elif letra in palavra:\n",
    "        print(\"Parabens, boa jogada!\")\n",
    "        inserir_linha()\n",
    "        \n",
    "        for i in range(x):\n",
    "            if letra == palavra[i]:\n",
    "                nova_palavra[i]=letra\n",
    "        print(\"Palavra:  \",\" \".join(nova_palavra))\n",
    "        inserir_linha()\n",
    "                   \n",
    "\n",
    "if numero_chances == 0:\n",
    "    print(\"Infelizmente voce foi enforcado!\") \n",
    "    print('''\n",
    "  +---+\n",
    "  |   |\n",
    "  O   |\n",
    " /|\\  |\n",
    " / \\  |\n",
    "      |\n",
    "=========''')\n",
    "    print('Palavra:  ', palavra)\n",
    "else: \n",
    "    print(\"Parabens, você acertou a palavra!!\")\n",
    "    \n",
    "                     "
   ]
  },
  {
   "cell_type": "code",
   "execution_count": null,
   "metadata": {},
   "outputs": [],
   "source": []
  }
 ],
 "metadata": {
  "kernelspec": {
   "display_name": "Python 3",
   "language": "python",
   "name": "python3"
  },
  "language_info": {
   "codemirror_mode": {
    "name": "ipython",
    "version": 3
   },
   "file_extension": ".py",
   "mimetype": "text/x-python",
   "name": "python",
   "nbconvert_exporter": "python",
   "pygments_lexer": "ipython3",
   "version": "3.8.5"
  }
 },
 "nbformat": 4,
 "nbformat_minor": 4
}
